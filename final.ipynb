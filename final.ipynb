{
 "cells": [
  {
   "cell_type": "code",
   "execution_count": 1,
   "id": "initial_id",
   "metadata": {
    "collapsed": true,
    "ExecuteTime": {
     "end_time": "2024-09-11T00:59:23.408751700Z",
     "start_time": "2024-09-11T00:59:21.149655900Z"
    }
   },
   "outputs": [
    {
     "name": "stdout",
     "output_type": "stream",
     "text": [
      " traincsv columns : Index(['0', '1', '2', '3', '4', '5', '6', '7', '8', '9', '10', '11', '12',\n",
      "       '13', '14', '15', '16', '17', '18', '19', '20', '21', '22', '23', '24',\n",
      "       '25', '26', '27', '28', '29', '30', '31', '32', '33', '34', '35', '36',\n",
      "       '37', '38', '39', '40', '41', '42', '43', '44', '45', '46', '47', '48',\n",
      "       '49', '50', '51', '52', '53', '54', '55', '56', '57', '58', '59', '60',\n",
      "       '61', '62', '63', '64', '65', 'TARGET'],\n",
      "      dtype='object')\n",
      " testcsv columns : Index(['0', '1', '2', '3', '4', '5', '6', '7', '8', '9', '10', '11', '12',\n",
      "       '13', '14', '15', '16', '17', '18', '19', '20', '21', '22', '23', '24',\n",
      "       '25', '26', '27', '28', '29', '30', '31', '32', '33', '34', '35', '36',\n",
      "       '37', '38', '39', '40', '41', '42', '43', '44', '45', '46', '47', '48',\n",
      "       '49', '50', '51', '52', '53', '54', '55', '56', '57', '58', '59', '60',\n",
      "       '61', '62', '63', '64', '65', 'TARGET'],\n",
      "      dtype='object')\n"
     ]
    },
    {
     "data": {
      "text/plain": "<Figure size 640x480 with 1 Axes>",
      "image/png": "[encoded data removed]"
     },
     "metadata": {},
     "output_type": "display_data"
    }
   ],
   "source": [
    "import pandas as pd\n",
    "import sklearn.linear_model\n",
    "import xgboost as xg\n",
    "import numpy as np\n",
    "\n",
    "traincsv = pd.read_csv('D1_Project_train.csv')\n",
    "testcsv = pd.read_csv('D1_Project_test.csv')\n",
    "\n",
    "traincsv = traincsv.loc[:, traincsv.columns != \"Unnamed: 0\"]                # drop row numbers\n",
    "testcsv = testcsv.loc[:, testcsv.columns != \"Unnamed: 0\"]                      # drop row numbers\n",
    "\n",
    "traincsv['TARGET'].hist(bins = 100)\n",
    "print(f' traincsv columns : {traincsv.columns}')\n",
    "print(f' testcsv columns : {testcsv.columns}')"
   ]
  },
  {
   "cell_type": "code",
   "execution_count": 2,
   "outputs": [
    {
     "data": {
      "text/plain": "                   0             1             2             3             4  \\\ncount   90000.000000  90000.000000  90000.000000  90000.000000  90000.000000   \nmean    13365.474816   1071.217275  41413.144569  41413.140081     70.441719   \nstd      4877.338110      6.590974    119.751346    119.750603      0.026711   \nmin      1360.676509   1055.893735  41133.554350  41135.249380     70.376360   \n25%      9863.794843   1065.855739  41314.544980  41315.368445     70.421158   \n50%     12623.982775   1072.278611  41431.236300  41432.297400     70.441679   \n75%     15934.225878   1076.997455  41519.350160  41518.194795     70.462306   \nmax    118430.888400   1083.289247  41631.278570  41632.688790     70.507341   \n\n                  5             6             7             8             9  \\\ncount  90000.000000  90000.000000  90000.000000  90000.000000  90000.000000   \nmean       7.389048     70.376194  23229.769090  23229.768350     70.376238   \nstd        0.037951      0.015646      0.681655      0.486083      0.163505   \nmin        6.820728     69.904333  23212.605500  23214.665950     68.359808   \n25%        7.369758     70.372991  23229.537335  23229.630510     70.288810   \n50%        7.389044     70.376254  23229.770985  23229.770720     70.376262   \n75%        7.408451     70.379509  23230.003937  23229.910870     70.463364   \nmax        7.856652     71.059006  23252.083430  23249.481000     72.164583   \n\n       ...             57             58            59            60  \\\ncount  ...   90000.000000   90000.000000  90000.000000  90000.000000   \nmean   ...   23240.851029   23229.611010     70.275744      7.361860   \nstd    ...    8279.284791   22592.451585     98.832869     96.279683   \nmin    ... -219561.029900 -220411.452400  -2584.384588  -1730.472763   \n25%    ...   21860.573760   11671.079185     48.664525    -29.485785   \n50%    ...   23229.771070   23228.218475     70.371319      7.448268   \n75%    ...   24635.507025   34792.260763     92.289834     44.300721   \nmax    ...  163586.659600  252427.446300   4459.505439   1623.195216   \n\n                 61             62             63            64            65  \\\ncount  90000.000000   90000.000000   90000.000000  90000.000000  90000.000000   \nmean      70.188727   23264.552056   23219.576197     71.549145      7.525900   \nstd      193.250530   55733.137929    5429.353037    807.900381    177.209302   \nmin    -4591.956144 -784846.949600 -179886.020000 -18469.018900  -5282.912546   \n25%        7.534898   -3231.274488   22535.747703   -179.316365    -34.347827   \n50%       70.353191   23185.725210   23229.687545     70.828300      7.358205   \n75%      134.156904   49820.993022   23924.867363    325.392806     49.962365   \nmax     4698.530506  782554.338600  135436.826300  17814.491820   2823.471082   \n\n             TARGET  \ncount  90000.000000  \nmean      -0.000018  \nstd        0.007456  \nmin       -0.154823  \n25%       -0.001740  \n50%        0.000002  \n75%        0.001746  \nmax        0.218376  \n\n[8 rows x 67 columns]",
      "text/html": "<div>\n<style scoped>\n    .dataframe tbody tr th:only-of-type {\n        vertical-align: middle;\n    }\n\n    .dataframe tbody tr th {\n        vertical-align: top;\n    }\n\n    .dataframe thead th {\n        text-align: right;\n    }\n</style>\n<table border=\"1\" class=\"dataframe\">\n  <thead>\n    <tr style=\"text-align: right;\">\n      <th></th>\n      <th>0</th>\n      <th>1</th>\n      <th>2</th>\n      <th>3</th>\n      <th>4</th>\n      <th>5</th>\n      <th>6</th>\n      <th>7</th>\n      <th>8</th>\n      <th>9</th>\n      <th>...</th>\n      <th>57</th>\n      <th>58</th>\n      <th>59</th>\n      <th>60</th>\n      <th>61</th>\n      <th>62</th>\n      <th>63</th>\n      <th>64</th>\n      <th>65</th>\n      <th>TARGET</th>\n    </tr>\n  </thead>\n  <tbody>\n    <tr>\n      <th>count</th>\n      <td>90000.000000</td>\n      <td>90000.000000</td>\n      <td>90000.000000</td>\n      <td>90000.000000</td>\n      <td>90000.000000</td>\n      <td>90000.000000</td>\n      <td>90000.000000</td>\n      <td>90000.000000</td>\n      <td>90000.000000</td>\n      <td>90000.000000</td>\n      <td>...</td>\n      <td>90000.000000</td>\n      <td>90000.000000</td>\n      <td>90000.000000</td>\n      <td>90000.000000</td>\n      <td>90000.000000</td>\n      <td>90000.000000</td>\n      <td>90000.000000</td>\n      <td>90000.000000</td>\n      <td>90000.000000</td>\n      <td>90000.000000</td>\n    </tr>\n    <tr>\n      <th>mean</th>\n      <td>13365.474816</td>\n      <td>1071.217275</td>\n      <td>41413.144569</td>\n      <td>41413.140081</td>\n      <td>70.441719</td>\n      <td>7.389048</td>\n      <td>70.376194</td>\n      <td>23229.769090</td>\n      <td>23229.768350</td>\n      <td>70.376238</td>\n      <td>...</td>\n      <td>23240.851029</td>\n      <td>23229.611010</td>\n      <td>70.275744</td>\n      <td>7.361860</td>\n      <td>70.188727</td>\n      <td>23264.552056</td>\n      <td>23219.576197</td>\n      <td>71.549145</td>\n      <td>7.525900</td>\n      <td>-0.000018</td>\n    </tr>\n    <tr>\n      <th>std</th>\n      <td>4877.338110</td>\n      <td>6.590974</td>\n      <td>119.751346</td>\n      <td>119.750603</td>\n      <td>0.026711</td>\n      <td>0.037951</td>\n      <td>0.015646</td>\n      <td>0.681655</td>\n      <td>0.486083</td>\n      <td>0.163505</td>\n      <td>...</td>\n      <td>8279.284791</td>\n      <td>22592.451585</td>\n      <td>98.832869</td>\n      <td>96.279683</td>\n      <td>193.250530</td>\n      <td>55733.137929</td>\n      <td>5429.353037</td>\n      <td>807.900381</td>\n      <td>177.209302</td>\n      <td>0.007456</td>\n    </tr>\n    <tr>\n      <th>min</th>\n      <td>1360.676509</td>\n      <td>1055.893735</td>\n      <td>41133.554350</td>\n      <td>41135.249380</td>\n      <td>70.376360</td>\n      <td>6.820728</td>\n      <td>69.904333</td>\n      <td>23212.605500</td>\n      <td>23214.665950</td>\n      <td>68.359808</td>\n      <td>...</td>\n      <td>-219561.029900</td>\n      <td>-220411.452400</td>\n      <td>-2584.384588</td>\n      <td>-1730.472763</td>\n      <td>-4591.956144</td>\n      <td>-784846.949600</td>\n      <td>-179886.020000</td>\n      <td>-18469.018900</td>\n      <td>-5282.912546</td>\n      <td>-0.154823</td>\n    </tr>\n    <tr>\n      <th>25%</th>\n      <td>9863.794843</td>\n      <td>1065.855739</td>\n      <td>41314.544980</td>\n      <td>41315.368445</td>\n      <td>70.421158</td>\n      <td>7.369758</td>\n      <td>70.372991</td>\n      <td>23229.537335</td>\n      <td>23229.630510</td>\n      <td>70.288810</td>\n      <td>...</td>\n      <td>21860.573760</td>\n      <td>11671.079185</td>\n      <td>48.664525</td>\n      <td>-29.485785</td>\n      <td>7.534898</td>\n      <td>-3231.274488</td>\n      <td>22535.747703</td>\n      <td>-179.316365</td>\n      <td>-34.347827</td>\n      <td>-0.001740</td>\n    </tr>\n    <tr>\n      <th>50%</th>\n      <td>12623.982775</td>\n      <td>1072.278611</td>\n      <td>41431.236300</td>\n      <td>41432.297400</td>\n      <td>70.441679</td>\n      <td>7.389044</td>\n      <td>70.376254</td>\n      <td>23229.770985</td>\n      <td>23229.770720</td>\n      <td>70.376262</td>\n      <td>...</td>\n      <td>23229.771070</td>\n      <td>23228.218475</td>\n      <td>70.371319</td>\n      <td>7.448268</td>\n      <td>70.353191</td>\n      <td>23185.725210</td>\n      <td>23229.687545</td>\n      <td>70.828300</td>\n      <td>7.358205</td>\n      <td>0.000002</td>\n    </tr>\n    <tr>\n      <th>75%</th>\n      <td>15934.225878</td>\n      <td>1076.997455</td>\n      <td>41519.350160</td>\n      <td>41518.194795</td>\n      <td>70.462306</td>\n      <td>7.408451</td>\n      <td>70.379509</td>\n      <td>23230.003937</td>\n      <td>23229.910870</td>\n      <td>70.463364</td>\n      <td>...</td>\n      <td>24635.507025</td>\n      <td>34792.260763</td>\n      <td>92.289834</td>\n      <td>44.300721</td>\n      <td>134.156904</td>\n      <td>49820.993022</td>\n      <td>23924.867363</td>\n      <td>325.392806</td>\n      <td>49.962365</td>\n      <td>0.001746</td>\n    </tr>\n    <tr>\n      <th>max</th>\n      <td>118430.888400</td>\n      <td>1083.289247</td>\n      <td>41631.278570</td>\n      <td>41632.688790</td>\n      <td>70.507341</td>\n      <td>7.856652</td>\n      <td>71.059006</td>\n      <td>23252.083430</td>\n      <td>23249.481000</td>\n      <td>72.164583</td>\n      <td>...</td>\n      <td>163586.659600</td>\n      <td>252427.446300</td>\n      <td>4459.505439</td>\n      <td>1623.195216</td>\n      <td>4698.530506</td>\n      <td>782554.338600</td>\n      <td>135436.826300</td>\n      <td>17814.491820</td>\n      <td>2823.471082</td>\n      <td>0.218376</td>\n    </tr>\n  </tbody>\n</table>\n<p>8 rows × 67 columns</p>\n</div>"
     },
     "execution_count": 2,
     "metadata": {},
     "output_type": "execute_result"
    }
   ],
   "source": [
    "traincsv.describe()"
   ],
   "metadata": {
    "collapsed": false,
    "ExecuteTime": {
     "end_time": "2024-09-11T00:59:23.594364Z",
     "start_time": "2024-09-11T00:59:23.407754Z"
    }
   },
   "id": "d3caaf9050c414c7"
  },
  {
   "cell_type": "code",
   "execution_count": 3,
   "outputs": [
    {
     "data": {
      "text/plain": "                  0             1             2             3             4  \\\ncount  19707.000000  19707.000000  19707.000000  19707.000000  19707.000000   \nmean    9975.260164   1078.291966  41541.678104  41541.671129     70.441791   \nstd     3934.982766      8.418171    152.946424    152.963293      0.030016   \nmin      325.859268   1061.267974  41231.194030  41232.291950     70.376293   \n25%     7531.492353   1070.574584  41402.658830  41402.067940     70.418640   \n50%     9896.037282   1080.274430  41576.505090  41576.958210     70.441713   \n75%    12387.922035   1084.993274  41664.618950  41663.784260     70.465179   \nmax    32945.873020   1094.824199  41843.228120  41842.105650     70.507341   \n\n                  5             6             7             8             9  \\\ncount  19707.000000  19707.000000  19707.000000  19707.000000  19707.000000   \nmean       7.389215     70.376332  23229.779446  23229.776988     70.376738   \nstd        0.046835      0.018461      0.833853      0.591788      0.206634   \nmin        7.018209     70.142222  23222.078010  23222.230240     68.434668   \n25%        7.364858     70.370975  23229.438815  23229.564575     70.265120   \n50%        7.389126     70.376260  23229.776020  23229.774360     70.377187   \n75%        7.413640     70.381662  23230.118620  23229.988295     70.489800   \nmax        7.956684     70.623575  23243.345480  23239.873680     72.377451   \n\n       ...             57             58            59            60  \\\ncount  ...   19707.000000   19707.000000  19707.000000  19707.000000   \nmean   ...   23213.873104   23240.484030     70.435130      7.548894   \nstd    ...    7651.541509   22829.217732     96.425010     95.342708   \nmin    ... -142767.442000 -135556.195400  -2294.735733  -1482.965085   \n25%    ...   21382.114850   11935.704155     48.460248    -28.581785   \n50%    ...   23229.776620   23142.410300     70.377186      7.417694   \n75%    ...   25146.733530   34473.526190     92.707505     44.366809   \nmax    ...  100780.537300  186167.793100   1907.060081   1634.587288   \n\n                 61             62            63            64            65  \\\ncount  19707.000000   19707.000000  19707.000000  19707.000000  19707.000000   \nmean      70.791803   23269.179827  23201.450509     71.010758      7.240163   \nstd      190.685448   56250.266596   5067.001142    752.099588    163.969095   \nmin    -3442.837570 -376857.699700 -99404.283480 -11171.096020  -3060.990061   \n25%        7.072419   -2241.406844  22381.098475   -190.860051    -39.790155   \n50%       70.219467   23241.617780  23229.771070     69.875124      7.447960   \n75%      134.018491   48918.672105  24070.920270    337.651272     55.045802   \nmax     3788.040760  461274.515500  89122.113170   6980.127157   1626.048157   \n\n             TARGET  \ncount  19707.000000  \nmean      -0.000066  \nstd        0.009020  \nmin       -0.171370  \n25%       -0.003099  \n50%        0.000003  \n75%        0.003053  \nmax        0.138727  \n\n[8 rows x 67 columns]",
      "text/html": "<div>\n<style scoped>\n    .dataframe tbody tr th:only-of-type {\n        vertical-align: middle;\n    }\n\n    .dataframe tbody tr th {\n        vertical-align: top;\n    }\n\n    .dataframe thead th {\n        text-align: right;\n    }\n</style>\n<table border=\"1\" class=\"dataframe\">\n  <thead>\n    <tr style=\"text-align: right;\">\n      <th></th>\n      <th>0</th>\n      <th>1</th>\n      <th>2</th>\n      <th>3</th>\n      <th>4</th>\n      <th>5</th>\n      <th>6</th>\n      <th>7</th>\n      <th>8</th>\n      <th>9</th>\n      <th>...</th>\n      <th>57</th>\n      <th>58</th>\n      <th>59</th>\n      <th>60</th>\n      <th>61</th>\n      <th>62</th>\n      <th>63</th>\n      <th>64</th>\n      <th>65</th>\n      <th>TARGET</th>\n    </tr>\n  </thead>\n  <tbody>\n    <tr>\n      <th>count</th>\n      <td>19707.000000</td>\n      <td>19707.000000</td>\n      <td>19707.000000</td>\n      <td>19707.000000</td>\n      <td>19707.000000</td>\n      <td>19707.000000</td>\n      <td>19707.000000</td>\n      <td>19707.000000</td>\n      <td>19707.000000</td>\n      <td>19707.000000</td>\n      <td>...</td>\n      <td>19707.000000</td>\n      <td>19707.000000</td>\n      <td>19707.000000</td>\n      <td>19707.000000</td>\n      <td>19707.000000</td>\n      <td>19707.000000</td>\n      <td>19707.000000</td>\n      <td>19707.000000</td>\n      <td>19707.000000</td>\n      <td>19707.000000</td>\n    </tr>\n    <tr>\n      <th>mean</th>\n      <td>9975.260164</td>\n      <td>1078.291966</td>\n      <td>41541.678104</td>\n      <td>41541.671129</td>\n      <td>70.441791</td>\n      <td>7.389215</td>\n      <td>70.376332</td>\n      <td>23229.779446</td>\n      <td>23229.776988</td>\n      <td>70.376738</td>\n      <td>...</td>\n      <td>23213.873104</td>\n      <td>23240.484030</td>\n      <td>70.435130</td>\n      <td>7.548894</td>\n      <td>70.791803</td>\n      <td>23269.179827</td>\n      <td>23201.450509</td>\n      <td>71.010758</td>\n      <td>7.240163</td>\n      <td>-0.000066</td>\n    </tr>\n    <tr>\n      <th>std</th>\n      <td>3934.982766</td>\n      <td>8.418171</td>\n      <td>152.946424</td>\n      <td>152.963293</td>\n      <td>0.030016</td>\n      <td>0.046835</td>\n      <td>0.018461</td>\n      <td>0.833853</td>\n      <td>0.591788</td>\n      <td>0.206634</td>\n      <td>...</td>\n      <td>7651.541509</td>\n      <td>22829.217732</td>\n      <td>96.425010</td>\n      <td>95.342708</td>\n      <td>190.685448</td>\n      <td>56250.266596</td>\n      <td>5067.001142</td>\n      <td>752.099588</td>\n      <td>163.969095</td>\n      <td>0.009020</td>\n    </tr>\n    <tr>\n      <th>min</th>\n      <td>325.859268</td>\n      <td>1061.267974</td>\n      <td>41231.194030</td>\n      <td>41232.291950</td>\n      <td>70.376293</td>\n      <td>7.018209</td>\n      <td>70.142222</td>\n      <td>23222.078010</td>\n      <td>23222.230240</td>\n      <td>68.434668</td>\n      <td>...</td>\n      <td>-142767.442000</td>\n      <td>-135556.195400</td>\n      <td>-2294.735733</td>\n      <td>-1482.965085</td>\n      <td>-3442.837570</td>\n      <td>-376857.699700</td>\n      <td>-99404.283480</td>\n      <td>-11171.096020</td>\n      <td>-3060.990061</td>\n      <td>-0.171370</td>\n    </tr>\n    <tr>\n      <th>25%</th>\n      <td>7531.492353</td>\n      <td>1070.574584</td>\n      <td>41402.658830</td>\n      <td>41402.067940</td>\n      <td>70.418640</td>\n      <td>7.364858</td>\n      <td>70.370975</td>\n      <td>23229.438815</td>\n      <td>23229.564575</td>\n      <td>70.265120</td>\n      <td>...</td>\n      <td>21382.114850</td>\n      <td>11935.704155</td>\n      <td>48.460248</td>\n      <td>-28.581785</td>\n      <td>7.072419</td>\n      <td>-2241.406844</td>\n      <td>22381.098475</td>\n      <td>-190.860051</td>\n      <td>-39.790155</td>\n      <td>-0.003099</td>\n    </tr>\n    <tr>\n      <th>50%</th>\n      <td>9896.037282</td>\n      <td>1080.274430</td>\n      <td>41576.505090</td>\n      <td>41576.958210</td>\n      <td>70.441713</td>\n      <td>7.389126</td>\n      <td>70.376260</td>\n      <td>23229.776020</td>\n      <td>23229.774360</td>\n      <td>70.377187</td>\n      <td>...</td>\n      <td>23229.776620</td>\n      <td>23142.410300</td>\n      <td>70.377186</td>\n      <td>7.417694</td>\n      <td>70.219467</td>\n      <td>23241.617780</td>\n      <td>23229.771070</td>\n      <td>69.875124</td>\n      <td>7.447960</td>\n      <td>0.000003</td>\n    </tr>\n    <tr>\n      <th>75%</th>\n      <td>12387.922035</td>\n      <td>1084.993274</td>\n      <td>41664.618950</td>\n      <td>41663.784260</td>\n      <td>70.465179</td>\n      <td>7.413640</td>\n      <td>70.381662</td>\n      <td>23230.118620</td>\n      <td>23229.988295</td>\n      <td>70.489800</td>\n      <td>...</td>\n      <td>25146.733530</td>\n      <td>34473.526190</td>\n      <td>92.707505</td>\n      <td>44.366809</td>\n      <td>134.018491</td>\n      <td>48918.672105</td>\n      <td>24070.920270</td>\n      <td>337.651272</td>\n      <td>55.045802</td>\n      <td>0.003053</td>\n    </tr>\n    <tr>\n      <th>max</th>\n      <td>32945.873020</td>\n      <td>1094.824199</td>\n      <td>41843.228120</td>\n      <td>41842.105650</td>\n      <td>70.507341</td>\n      <td>7.956684</td>\n      <td>70.623575</td>\n      <td>23243.345480</td>\n      <td>23239.873680</td>\n      <td>72.377451</td>\n      <td>...</td>\n      <td>100780.537300</td>\n      <td>186167.793100</td>\n      <td>1907.060081</td>\n      <td>1634.587288</td>\n      <td>3788.040760</td>\n      <td>461274.515500</td>\n      <td>89122.113170</td>\n      <td>6980.127157</td>\n      <td>1626.048157</td>\n      <td>0.138727</td>\n    </tr>\n  </tbody>\n</table>\n<p>8 rows × 67 columns</p>\n</div>"
     },
     "execution_count": 3,
     "metadata": {},
     "output_type": "execute_result"
    }
   ],
   "source": [
    "testcsv.describe()"
   ],
   "metadata": {
    "collapsed": false,
    "ExecuteTime": {
     "end_time": "2024-09-11T00:59:23.719369500Z",
     "start_time": "2024-09-11T00:59:23.593366400Z"
    }
   },
   "id": "3ce10ad21852b5d0"
  },
  {
   "cell_type": "code",
   "execution_count": 4,
   "outputs": [
    {
     "name": "stdout",
     "output_type": "stream",
     "text": [
      " max target value : 0.218375702, min target value : -0.154822771\n",
      "-0.02003159834\n",
      "0.019718635939999982\n"
     ]
    }
   ],
   "source": [
    "print(f' max target value : {max(traincsv[\"TARGET\"])}, min target value : {min(traincsv[\"TARGET\"])}')\n",
    "#  max target value : 0.218375702, min target value : -0.154822771\n",
    "\n",
    "print(traincsv['TARGET'].quantile(q=0.01))\n",
    "print(traincsv['TARGET'].quantile(q=0.99))\n",
    "\n",
    "# -0.02003159834\n",
    "# 0.019718635939999982"
   ],
   "metadata": {
    "collapsed": false,
    "ExecuteTime": {
     "end_time": "2024-09-11T00:59:23.720366800Z",
     "start_time": "2024-09-11T00:59:23.684931800Z"
    }
   },
   "id": "3f7b9ffd37231114"
  },
  {
   "cell_type": "code",
   "execution_count": null,
   "outputs": [],
   "source": [
    "### CLIPPING\n",
    "lower, upper = 0.01, 0.99\n",
    "\n",
    "traincsv.clip(traincsv.quantile(lower), traincsv.quantile(upper), axis = 1)\n",
    "testcsv.clip(testcsv.quantile(lower), testcsv.quantile(upper), axis = 1)"
   ],
   "metadata": {
    "collapsed": false
   },
   "id": "e6012127718abf5"
  },
  {
   "cell_type": "code",
   "execution_count": 77,
   "outputs": [],
   "source": [
    "### NORMALIZATION\n",
    "\n",
    "const = 0.001\n",
    "\n",
    "traincsv_feat = traincsv.loc[:, traincsv.columns != \"TARGET\"]\n",
    "traincsv_target = traincsv[\"TARGET\"]\n",
    "traincsv_ewm = traincsv_feat.ewm(alpha = const)\n",
    "temp = traincsv_feat.copy()\n",
    "traincsv_feat_norm = (temp - traincsv_ewm.mean())/traincsv_ewm.std()\n",
    "traincsv_feat_norm.fillna(0, inplace=True)\n",
    "traincsv_feat_norm = traincsv_feat_norm.loc[:, traincsv_feat_norm.columns != \"mean\"]\n",
    "traincsv_feat_norm = traincsv_feat_norm[1:]\n",
    "traincsv_target = traincsv_target[1:]\n",
    "\n",
    "testcsv_feat = testcsv.loc[:, testcsv.columns != \"TARGET\"]\n",
    "testcsv_target = testcsv[\"TARGET\"]\n",
    "testcsv_ewm = testcsv_feat.ewm(alpha = const)\n",
    "temp = testcsv_feat.copy()\n",
    "testcsv_feat_norm = (temp - testcsv_ewm.mean())/testcsv_ewm.std()\n",
    "testcsv_feat_norm.fillna(0, inplace=True)\n",
    "testcsv_feat_norm = testcsv_feat_norm.loc[:, testcsv_feat_norm.columns != \"mean\"]\n",
    "testcsv_feat_norm = testcsv_feat_norm[1:]\n",
    "testcsv_target = testcsv_target[1:]"
   ],
   "metadata": {
    "collapsed": false,
    "ExecuteTime": {
     "end_time": "2024-09-11T02:15:45.414383200Z",
     "start_time": "2024-09-11T02:15:44.977960500Z"
    }
   },
   "id": "4ffbfa67a81fce98"
  },
  {
   "cell_type": "code",
   "execution_count": 78,
   "outputs": [
    {
     "name": "stdout",
     "output_type": "stream",
     "text": [
      "OLS score : 0.00255602\n",
      "alpha :  0.0010 / Ridge score :  0.00255605\n",
      "alpha :  0.0010 / Lasso score : -0.00002899\n",
      "alpha :  0.0050 / Ridge score :  0.00255615\n",
      "alpha :  0.0050 / Lasso score : -0.00002899\n",
      "alpha :  0.0100 / Ridge score :  0.00255627\n",
      "alpha :  0.0100 / Lasso score : -0.00002899\n",
      "alpha :  0.0500 / Ridge score :  0.00255725\n",
      "alpha :  0.0500 / Lasso score : -0.00002899\n",
      "alpha :  0.1000 / Ridge score :  0.00255843\n",
      "alpha :  0.1000 / Lasso score : -0.00002899\n",
      "alpha :  1.0000 / Ridge score :  0.00257580\n",
      "alpha :  1.0000 / Lasso score : -0.00002899\n",
      "alpha :  10.0000 / Ridge score :  0.00266484\n",
      "alpha :  10.0000 / Lasso score : -0.00002899\n",
      "alpha :  50.0000 / Ridge score :  0.00277931\n",
      "alpha :  50.0000 / Lasso score : -0.00002899\n",
      "alpha :  100.0000 / Ridge score :  0.00281110\n",
      "alpha :  100.0000 / Lasso score : -0.00002899\n"
     ]
    }
   ],
   "source": [
    "### MODEL SELECTION\n",
    "\n",
    "OLS = sklearn.linear_model.LinearRegression().fit(traincsv_feat_norm, traincsv_target)\n",
    "OLS_score = sklearn.metrics.r2_score(testcsv_target, OLS.predict(testcsv_feat_norm))\n",
    "print(f\"OLS score : {OLS_score:.8f}\")\n",
    "\n",
    "alphas = [0.001, 0.005, 0.01, 0.05, 0.1, 1, 10, 50, 100]\n",
    "\n",
    "for alpha in alphas:\n",
    "    Ridge = sklearn.linear_model.Ridge(alpha = alpha).fit(traincsv_feat_norm, traincsv_target)\n",
    "    Lasso = sklearn.linear_model.Lasso(alpha = alpha).fit(traincsv_feat_norm, traincsv_target)\n",
    "    print(f\"alpha : {alpha: 3.4f} / Ridge score : {sklearn.metrics.r2_score(testcsv_target, Ridge.predict(testcsv_feat_norm)): .8f}\")\n",
    "    print(f\"alpha : {alpha: 3.4f} / Lasso score : {sklearn.metrics.r2_score(testcsv_target, Lasso.predict(testcsv_feat_norm)): .8f}\")\n",
    "    \n",
    "    \n",
    "# OLS score : 0.00255602\n",
    "# alpha :  0.0010 / Ridge score :  0.00255605\n",
    "# alpha :  0.0010 / Lasso score : -0.00002899\n",
    "# alpha :  0.0050 / Ridge score :  0.00255615\n",
    "# alpha :  0.0050 / Lasso score : -0.00002899\n",
    "# alpha :  0.0100 / Ridge score :  0.00255627\n",
    "# alpha :  0.0100 / Lasso score : -0.00002899\n",
    "# alpha :  0.0500 / Ridge score :  0.00255725\n",
    "# alpha :  0.0500 / Lasso score : -0.00002899\n",
    "# alpha :  0.1000 / Ridge score :  0.00255843\n",
    "# alpha :  0.1000 / Lasso score : -0.00002899\n",
    "# alpha :  1.0000 / Ridge score :  0.00257580\n",
    "# alpha :  1.0000 / Lasso score : -0.00002899\n",
    "# alpha :  10.0000 / Ridge score :  0.00266484\n",
    "# alpha :  10.0000 / Lasso score : -0.00002899\n",
    "# alpha :  50.0000 / Ridge score :  0.00277931\n",
    "# alpha :  50.0000 / Lasso score : -0.00002899\n",
    "# alpha :  100.0000 / Ridge score :  0.00281110\n",
    "# alpha :  100.0000 / Lasso score : -0.00002899"
   ],
   "metadata": {
    "collapsed": false,
    "ExecuteTime": {
     "end_time": "2024-09-11T02:15:47.325180400Z",
     "start_time": "2024-09-11T02:15:45.980903800Z"
    }
   },
   "id": "90a72b1529beda3b"
  },
  {
   "cell_type": "code",
   "execution_count": 37,
   "outputs": [
    {
     "name": "stdout",
     "output_type": "stream",
     "text": [
      "55.95181379600008\n"
     ]
    }
   ],
   "source": [
    "### IDEAL PROFIT: 100% correct model\n",
    "\n",
    "ideal_return = 0\n",
    "for number in testcsv_target:\n",
    "    ideal_return += number * (number > 0)\n",
    "print(ideal_return)\n",
    "\n",
    "# 55.95181379600008"
   ],
   "metadata": {
    "collapsed": false,
    "ExecuteTime": {
     "end_time": "2024-09-11T01:36:45.673314300Z",
     "start_time": "2024-09-11T01:36:45.659693300Z"
    }
   },
   "id": "4e96a6dc16b4387f"
  },
  {
   "cell_type": "code",
   "execution_count": 60,
   "outputs": [
    {
     "name": "stdout",
     "output_type": "stream",
     "text": [
      "my final return is  3.7141212272 out of  55.9518137960\n",
      "up/down prediction score : 48.63493352278494% win rate\n"
     ]
    }
   ],
   "source": [
    "### actual trading model\n",
    "\n",
    "my_return = 0\n",
    "final_model = sklearn.linear_model.Ridge(alpha = 100).fit(traincsv_feat_norm, traincsv_target)\n",
    "testcsv_predict = final_model.predict(testcsv_feat_norm)\n",
    "\n",
    "count = len(testcsv_target)\n",
    "correct = 0\n",
    "for i in range(count):\n",
    "    my_return += testcsv_target.iloc[i] * (testcsv_predict[i] > 0)\n",
    "    correct += (testcsv_target.iloc[i] * testcsv_predict[i] > 0)\n",
    "print(f'my final return is {my_return: .10f} out of {ideal_return: .10f}')\n",
    "print(f'up/down prediction score : {correct / count * 100}% win rate')\n",
    "\n",
    "\n",
    "# my final return is  3.7141212272 out of  55.9518137960\n",
    "# up/down prediction score : 48.63493352278494% win rate"
   ],
   "metadata": {
    "collapsed": false,
    "ExecuteTime": {
     "end_time": "2024-09-11T01:52:09.667601600Z",
     "start_time": "2024-09-11T01:52:09.395422400Z"
    }
   },
   "id": "d304720cd4c81458"
  },
  {
   "cell_type": "markdown",
   "source": [
    "### THOUGHTS\n",
    "\n",
    "* Can clipping be done in a better way, rather than considering a quantile? we can also abort those outlier rows.\n",
    "* There might be a better constant than 0.001 for the moving window average constant.\n",
    "* Ridge regression gives the best performance when the penalizing constant is larger than 100. There must be a way to\n",
    " handle this problem.\n",
    "* Does normalizing the \"TARGET\" give a better result? Doubt about it.\n",
    "* What about XGboost model?"
   ],
   "metadata": {
    "collapsed": false
   },
   "id": "96530ed25b2a25ff"
  },
  {
   "cell_type": "code",
   "execution_count": 75,
   "outputs": [
    {
     "name": "stdout",
     "output_type": "stream",
     "text": [
      "estimator :  50.000000 / regression via xgboost r2 score : -1.227095\n",
      "my final return is  8.5472560364 out of  55.9518137960\n",
      "up/down prediction score : 49.32257573451058% win rate\n",
      "estimator :  100.000000 / regression via xgboost r2 score : -1.620240\n",
      "my final return is  11.7856402696 out of  55.9518137960\n",
      "up/down prediction score : 49.70822550362815% win rate\n",
      "estimator :  500.000000 / regression via xgboost r2 score : -1.886139\n",
      "my final return is  14.9610428778 out of  55.9518137960\n",
      "up/down prediction score : 49.93149642259096% win rate\n",
      "estimator :  1000.000000 / regression via xgboost r2 score : -1.942191\n",
      "my final return is  17.6335478630 out of  55.9518137960\n",
      "up/down prediction score : 49.89090171005227% win rate\n",
      "estimator :  5000.000000 / regression via xgboost r2 score : -1.812021\n",
      "my final return is  19.9309850482 out of  55.9518137960\n",
      "up/down prediction score : 50.59623484041204% win rate\n"
     ]
    }
   ],
   "source": [
    "### XGboost try\n",
    "\n",
    "traincsv_feat = traincsv.drop(columns = [\"TARGET\", \"mean\"])\n",
    "traincsv_target = traincsv[\"TARGET\"]\n",
    "testcsv_feat = testcsv.drop(columns = [\"TARGET\"])\n",
    "testcsv_target = testcsv[\"TARGET\"]\n",
    "# XGboost does not require normalization process\n",
    "\n",
    "count = len(testcsv_target)\n",
    "\n",
    "estimators = [50, 100, 500, 1000, 5000]\n",
    "for estimator in estimators:\n",
    "    xgLR = xg.XGBRegressor(n_estimators = estimator, max_depth = 3).fit(traincsv_feat, traincsv_target)\n",
    "    r2_xgLR = sklearn.metrics.r2_score(testcsv_target, xgLR.predict(testcsv_feat))\n",
    "    print(f'estimator : {estimator: 5f} / regression via xgboost r2 score : {r2_xgLR: .6f}')\n",
    "    testcsv_predict = xgLR.predict(testcsv_feat)\n",
    "    correct = 0\n",
    "    for i in range(count):\n",
    "        my_return += testcsv_target.iloc[i] * (testcsv_predict[i] > 0)\n",
    "        correct += (testcsv_target.iloc[i] * testcsv_predict[i] > 0)\n",
    "    print(f'my final return is {my_return: .10f} out of {ideal_return: .10f}')\n",
    "    print(f'up/down prediction score : {correct / count * 100}% win rate')\n",
    "\n",
    "\n",
    "# estimator :  50.000000 / regression via xgboost r2 score : -1.227095\n",
    "# my final return is  8.5472560364 out of  55.9518137960\n",
    "# up/down prediction score : 49.32257573451058% win rate\n",
    "# estimator :  100.000000 / regression via xgboost r2 score : -1.620240\n",
    "# my final return is  11.7856402696 out of  55.9518137960\n",
    "# up/down prediction score : 49.70822550362815% win rate\n",
    "# estimator :  500.000000 / regression via xgboost r2 score : -1.886139\n",
    "# my final return is  14.9610428778 out of  55.9518137960\n",
    "# up/down prediction score : 49.93149642259096% win rate\n",
    "# estimator :  1000.000000 / regression via xgboost r2 score : -1.942191\n",
    "# my final return is  17.6335478630 out of  55.9518137960\n",
    "# up/down prediction score : 49.89090171005227% win rate\n",
    "# estimator :  5000.000000 / regression via xgboost r2 score : -1.812021\n",
    "# my final return is  19.9309850482 out of  55.9518137960\n",
    "# up/down prediction score : 50.59623484041204% win rate\n",
    "\n"
   ],
   "metadata": {
    "collapsed": false,
    "ExecuteTime": {
     "end_time": "2024-09-11T02:12:44.051868900Z",
     "start_time": "2024-09-11T02:07:55.836396200Z"
    }
   },
   "id": "fd319806cb410953"
  },
  {
   "cell_type": "markdown",
   "source": [
    "### Conclusion\n",
    "\n",
    "XGboost does not give the best r2 score, nonetheless, in terms of actual return XGboost was the best. We may try more\n",
    " leaves to figure out the best return but calculation power was not enough at my local pc.\n",
    "\n",
    "Final model : XGboost with 5000 estimators, 3 layers, only with clippings.\n",
    "\n",
    "\n",
    "# my final return is  19.9309850482 out of  55.9518137960\n",
    "# up/down prediction score : 50.59623484041204% win rate"
   ],
   "metadata": {
    "collapsed": false
   },
   "id": "dd1e5451eb43869e"
  },
  {
   "cell_type": "code",
   "execution_count": null,
   "outputs": [],
   "source": [],
   "metadata": {
    "collapsed": false
   },
   "id": "f6e708dacd40198b"
  }
 ],
 "metadata": {
  "kernelspec": {
   "display_name": "Python 3",
   "language": "python",
   "name": "python3"
  },
  "language_info": {
   "codemirror_mode": {
    "name": "ipython",
    "version": 2
   },
   "file_extension": ".py",
   "mimetype": "text/x-python",
   "name": "python",
   "nbconvert_exporter": "python",
   "pygments_lexer": "ipython2",
   "version": "2.7.6"
  }
 },
 "nbformat": 4,
 "nbformat_minor": 5
}
